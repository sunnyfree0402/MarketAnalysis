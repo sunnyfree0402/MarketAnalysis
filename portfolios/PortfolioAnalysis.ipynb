{
 "cells": [
  {
   "cell_type": "code",
   "execution_count": 1,
   "metadata": {},
   "outputs": [],
   "source": [
    "import ffn \n",
    "from empyrical import alpha_beta\n",
    "from pypfopt.efficient_frontier import EfficientFrontier\n",
    "from pypfopt import risk_models\n",
    "from pypfopt import expected_returns\n",
    "from pypfopt import discrete_allocation\n",
    "import matplotlib as pyplot\n",
    "import numpy as np\n",
    "import pandas as pd"
   ]
  },
  {
   "cell_type": "markdown",
   "metadata": {},
   "source": [
    "## Getting stock prices and rebasing to view prices on common scales"
   ]
  },
  {
   "cell_type": "code",
   "execution_count": 6,
   "metadata": {},
   "outputs": [
    {
     "name": "stdout",
     "output_type": "stream",
     "text": [
      "Type of prices: <class 'pandas.core.frame.DataFrame'>\n"
     ]
    }
   ],
   "source": [
    "prices = ffn.get('msft,aapl,amzn,fb,brk-b,jnj', start='2016-01-01')\n",
    "benchmark = ffn.get('spy', start='2016-01-01')\n",
    "msft = ffn.get('msft', start='2016-01-01')\n",
    "ax = prices.rebase().plot()\n",
    "\n",
    "print('Type of prices:', type(prices))"
   ]
  },
  {
   "cell_type": "code",
   "execution_count": 4,
   "metadata": {},
   "outputs": [],
   "source": [
    "returns = prices.to_returns().dropna()\n",
    "ax = returns.hist(figsize=(10,10))"
   ]
  },
  {
   "cell_type": "code",
   "execution_count": 8,
   "metadata": {},
   "outputs": [
    {
     "name": "stdout",
     "output_type": "stream",
     "text": [
      "Stat                 msft        aapl        amzn        fb          brkb        jnj\n",
      "-------------------  ----------  ----------  ----------  ----------  ----------  ----------\n",
      "Start                2016-01-04  2016-01-04  2016-01-04  2016-01-04  2016-01-04  2016-01-04\n",
      "End                  2020-12-31  2020-12-31  2020-12-31  2020-12-31  2020-12-31  2020-12-31\n",
      "Risk-free rate       0.00%       0.00%       0.00%       0.00%       0.00%       0.00%\n",
      "\n",
      "Total Return         344.78%     443.79%     411.30%     167.23%     77.34%      79.25%\n",
      "Daily Sharpe         1.22        1.28        1.23        0.76        0.64        0.69\n",
      "Daily Sortino        1.99        2.09        2.09        1.21        1.01        1.06\n",
      "CAGR                 34.85%      40.39%      38.67%      21.77%      12.16%      12.40%\n",
      "Max Drawdown         -28.04%     -38.52%     -34.10%     -42.96%     -29.57%     -27.37%\n",
      "Calmar Ratio         1.24        1.05        1.13        0.51        0.41        0.45\n",
      "\n",
      "MTD                  3.90%       11.46%      2.81%       -1.38%      1.29%       8.78%\n",
      "3m                   6.02%       14.77%      3.44%       4.30%       8.89%       6.44%\n",
      "6m                   9.84%       46.01%      18.06%      20.30%      29.89%      13.44%\n",
      "YTD                  42.53%      82.31%      76.26%      33.09%      2.37%       10.82%\n",
      "1Y                   42.53%      82.31%      76.26%      33.09%      2.37%       10.82%\n",
      "3Y (ann.)            39.32%      47.48%      39.99%      14.64%      5.55%       7.05%\n",
      "5Y (ann.)            34.85%      40.39%      38.67%      21.77%      12.16%      12.40%\n",
      "10Y (ann.)           34.85%      40.39%      38.67%      21.77%      12.16%      12.40%\n",
      "Since Incep. (ann.)  34.85%      40.39%      38.67%      21.77%      12.16%      12.40%\n",
      "\n",
      "Daily Sharpe         1.22        1.28        1.23        0.76        0.64        0.69\n",
      "Daily Sortino        1.99        2.09        2.09        1.21        1.01        1.06\n",
      "Daily Mean (ann.)    33.76%      38.50%      37.28%      25.16%      13.78%      13.67%\n",
      "Daily Vol (ann.)     27.75%      30.18%      30.32%      32.94%      21.42%      19.87%\n",
      "Daily Skew           -0.03       -0.10       0.30        -0.35       -0.10       -0.41\n",
      "Daily Kurt           10.83       7.21        4.94        12.53       13.96       11.53\n",
      "Best Day             14.22%      11.98%      13.22%      15.52%      11.61%      8.00%\n",
      "Worst Day            -14.74%     -12.86%     -7.92%      -18.96%     -9.59%      -10.04%\n",
      "\n",
      "Monthly Sharpe       1.76        1.37        1.40        0.78        0.78        0.75\n",
      "Monthly Sortino      3.95        2.83        3.18        1.77        1.54        1.37\n",
      "Monthly Mean (ann.)  32.27%      40.99%      39.08%      21.95%      13.27%      12.52%\n",
      "Monthly Vol (ann.)   18.38%      30.02%      27.95%      28.11%      17.00%      16.78%\n",
      "Monthly Skew         -0.23       -0.32       0.21        0.69        0.03        -0.14\n",
      "Monthly Kurt         -0.22       -0.22       1.40        0.94        0.26        0.67\n",
      "Best Month           13.63%      21.66%      26.89%      27.16%      13.38%      14.42%\n",
      "Worst Month          -9.70%      -18.12%     -20.22%     -13.34%     -11.39%     -12.15%\n",
      "\n",
      "Yearly Sharpe        2.68        1.24        1.85        0.77        1.06        0.93\n",
      "Yearly Sortino       inf         19.88       inf         2.28        inf         4.52\n",
      "Yearly Mean          40.40%      53.58%      45.92%      29.33%      9.48%       11.58%\n",
      "Yearly Vol           15.09%      43.13%      24.84%      38.14%      8.98%       12.47%\n",
      "Yearly Skew          -0.48       -1.14       0.50        -1.59       1.07        -0.84\n",
      "Yearly Kurt          1.56        0.32        -2.77       2.35        -0.16       1.08\n",
      "Best Year            57.56%      88.96%      76.26%      56.57%      21.62%      24.43%\n",
      "Worst Year           20.80%      -5.39%      23.03%      -25.71%     2.37%       -5.13%\n",
      "\n",
      "Avg. Drawdown        -2.91%      -3.72%      -4.35%      -4.64%      -2.88%      -3.07%\n",
      "Avg. Drawdown Days   16.74       21.39       26.62       27.20       34.98       33.36\n",
      "Avg. Up Month        5.17%       8.84%       7.91%       6.79%       4.39%       3.89%\n",
      "Avg. Down Month      -3.98%      -5.71%      -4.57%      -5.41%      -3.37%      -3.74%\n",
      "Win Year %           100.00%     75.00%      100.00%     75.00%      100.00%     75.00%\n",
      "Win 12m %            100.00%     89.80%      95.92%      83.67%      77.55%      81.63%\n"
     ]
    },
    {
     "name": "stderr",
     "output_type": "stream",
     "text": [
      "C:\\Users\\chris\\AppData\\Local\\conda\\conda\\envs\\finrl\\lib\\site-packages\\ffn\\core.py:2056: RuntimeWarning: divide by zero encountered in true_divide\n",
      "  res = np.divide(er.mean(), std)\n",
      "C:\\Users\\chris\\AppData\\Local\\conda\\conda\\envs\\finrl\\lib\\site-packages\\ffn\\core.py:2056: RuntimeWarning: divide by zero encountered in true_divide\n",
      "  res = np.divide(er.mean(), std)\n",
      "C:\\Users\\chris\\AppData\\Local\\conda\\conda\\envs\\finrl\\lib\\site-packages\\ffn\\core.py:2056: RuntimeWarning: divide by zero encountered in true_divide\n",
      "  res = np.divide(er.mean(), std)\n"
     ]
    }
   ],
   "source": [
    "stats = prices.calc_stats()\n",
    "stats.display()"
   ]
  },
  {
   "cell_type": "code",
   "execution_count": 9,
   "metadata": {},
   "outputs": [
    {
     "name": "stdout",
     "output_type": "stream",
     "text": [
      "1.0330866286823779\n"
     ]
    },
    {
     "name": "stderr",
     "output_type": "stream",
     "text": [
      "C:\\Users\\chris\\AppData\\Local\\conda\\conda\\envs\\finrl\\lib\\site-packages\\empyrical\\stats.py:1296: RuntimeWarning: overflow encountered in power\n",
      "  out=out\n"
     ]
    }
   ],
   "source": [
    "alpha, beta = alpha_beta(msft, benchmark)\n",
    "print(beta)"
   ]
  },
  {
   "cell_type": "code",
   "execution_count": 10,
   "metadata": {},
   "outputs": [
    {
     "name": "stdout",
     "output_type": "stream",
     "text": [
      "Expected annualised return: 0.3\n",
      "Volatility: 0.23\n"
     ]
    }
   ],
   "source": [
    "returns = prices.pct_change()\n",
    " \n",
    "# mean daily return and covariance of daily returns\n",
    "mean_daily_returns = returns.mean()\n",
    "cov_matrix = returns.cov()\n",
    " \n",
    "# portfolio weights\n",
    "weights = np.asarray([0.4,0.2,0.1,0.1,0.1,0.1])\n",
    " \n",
    "portfolio_return = round(np.sum(mean_daily_returns * weights) * 252,2)\n",
    "portfolio_std_dev = round(np.sqrt(np.dot(weights.T,np.dot(cov_matrix, weights))) * np.sqrt(252),2)\n",
    "\n",
    "print(\"Expected annualised return: \" + str(portfolio_return))\n",
    "print(\"Volatility: \" + str(portfolio_std_dev))"
   ]
  },
  {
   "cell_type": "code",
   "execution_count": 11,
   "metadata": {},
   "outputs": [
    {
     "name": "stdout",
     "output_type": "stream",
     "text": [
      "OrderedDict([('msft', 0.16508), ('aapl', 0.46147), ('amzn', 0.37344), ('fb', 0.0), ('brkb', 0.0), ('jnj', 0.0)])\n",
      "Expected annual return: 38.8%\n",
      "Annual volatility: 26.3%\n",
      "Sharpe Ratio: 1.40\n"
     ]
    },
    {
     "data": {
      "text/plain": [
       "(0.38827283271833685, 0.2633064620279706, 1.3986471501000073)"
      ]
     },
     "execution_count": 11,
     "metadata": {},
     "output_type": "execute_result"
    }
   ],
   "source": [
    "# Expected returns and sample covariance\n",
    "mu = expected_returns.mean_historical_return(prices)\n",
    "S = risk_models.sample_cov(prices)\n",
    "\n",
    "# Optimise portfolio for maximum Sharpe Ratio\n",
    "ef = EfficientFrontier(mu, S)\n",
    "raw_weights = ef.max_sharpe()\n",
    "cleaned_weights = ef.clean_weights()\n",
    "print(cleaned_weights)\n",
    "ef.portfolio_performance(verbose=True)\n",
    "\n"
   ]
  },
  {
   "cell_type": "code",
   "execution_count": 17,
   "metadata": {},
   "outputs": [
    {
     "name": "stdout",
     "output_type": "stream",
     "text": [
      "LP allocation: {'msft': 75, 'aapl': 348, 'amzn': 11}\n",
      "Funds remaining: $1316.15\n",
      "Greedy allocation: {'aapl': 347, 'amzn': 11, 'msft': 74}\n",
      "Funds remaining: $1671.26\n"
     ]
    }
   ],
   "source": [
    "latest_prices = discrete_allocation.get_latest_prices(prices)\n",
    "DAM = discrete_allocation.DiscreteAllocation(cleaned_weights, latest_prices, total_portfolio_value=100000)\n",
    "allocation, leftover = DAM.lp_portfolio()\n",
    "print('LP allocation:', allocation)\n",
    "print(\"Funds remaining: ${:.2f}\".format(leftover))\n",
    "allocation, leftover = DAM.greedy_portfolio()\n",
    "print('Greedy allocation:', allocation)\n",
    "print(\"Funds remaining: ${:.2f}\".format(leftover))"
   ]
  },
  {
   "cell_type": "code",
   "execution_count": 18,
   "metadata": {},
   "outputs": [
    {
     "data": {
      "text/plain": [
       "OrderedDict([('msft', 0.3268640397502882),\n",
       "             ('aapl', 0.3609488909370011),\n",
       "             ('amzn', 0.1794799869650703),\n",
       "             ('fb', -0.2403210445459606),\n",
       "             ('brkb', -0.4131380371437694),\n",
       "             ('jnj', -0.2138338359626298)])"
      ]
     },
     "execution_count": 18,
     "metadata": {},
     "output_type": "execute_result"
    }
   ],
   "source": [
    "ef = EfficientFrontier(mu, S, weight_bounds=(-1, 1))\n",
    "ef.efficient_return(target_return=0.2, market_neutral=True)"
   ]
  },
  {
   "cell_type": "code",
   "execution_count": null,
   "metadata": {},
   "outputs": [],
   "source": []
  }
 ],
 "metadata": {
  "kernelspec": {
   "display_name": "Python 3",
   "language": "python",
   "name": "python3"
  },
  "language_info": {
   "codemirror_mode": {
    "name": "ipython",
    "version": 3
   },
   "file_extension": ".py",
   "mimetype": "text/x-python",
   "name": "python",
   "nbconvert_exporter": "python",
   "pygments_lexer": "ipython3",
   "version": "3.7.9"
  }
 },
 "nbformat": 4,
 "nbformat_minor": 2
}
